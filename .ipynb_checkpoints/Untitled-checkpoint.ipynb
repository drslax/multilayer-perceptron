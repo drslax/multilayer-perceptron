{
 "cells": [
  {
   "cell_type": "markdown",
   "metadata": {},
   "source": [
    "<h1>The Perceptron</h1>\n",
    "<br>\n",
    "<p>Invented in 1957 by Frank Rosenblatt at the Cornell Aeronautical Laboratory, a perceptron is the simplest neural network possible: a computational model of a single neuron. A perceptron consists of one or more inputs, a processor, and a single output.</p>\n",
    "<img src=\"img/per.png\">"
   ]
  },
  {
   "cell_type": "code",
   "execution_count": 1,
   "metadata": {},
   "outputs": [
    {
     "name": "stdout",
     "output_type": "stream",
     "text": [
      "[[0.86765093 0.49079747]\n",
      " [0.69929187 0.53946072]] [[0.77876245 0.13969517]] \n",
      "\n",
      " [[0.32906122]\n",
      " [0.51827527]] [[0.52426095]]\n"
     ]
    }
   ],
   "source": [
    "import numpy as np\n",
    "\n",
    "arr_in = np.array([[0,0],[0,1],[1,0],[1,1]])\n",
    "arr_out = np.array([[0],[1],[1],[0]])\n",
    "lr = 0.1\n",
    "\n",
    "# initialize the weights with random values\n",
    "inp_layer, hidden_layer, out_layer = 2, 2, 1\n",
    "hidden_weights = np.random.uniform(size=(inp_layer,hidden_layer))\n",
    "hidden_bias = np.random.uniform(size=(1,hidden_layer))\n",
    "out_weights = np.random.uniform(size=(hidden_layer, out_layer))\n",
    "out_bias = np.random.uniform(size=(1,out_layer))\n",
    "\n",
    "print(hidden_weights, hidden_bias, '\\n\\n', out_weights, out_bias)"
   ]
  },
  {
   "cell_type": "code",
   "execution_count": 2,
   "metadata": {},
   "outputs": [],
   "source": [
    "def sigmoid(x):\n",
    "    return 1/(1 + np.exp(-x))\n",
    "\n",
    "def sigmoid_derivative(x):\n",
    "    return x * (1 - x)"
   ]
  },
  {
   "cell_type": "code",
   "execution_count": 4,
   "metadata": {},
   "outputs": [
    {
     "name": "stdout",
     "output_type": "stream",
     "text": [
      "[[0.00392996]\n",
      " [0.99669849]\n",
      " [0.99669839]\n",
      " [0.00335714]] \n",
      "\n",
      "\n",
      "[[0.00374403]\n",
      " [0.99685615]\n",
      " [0.99685606]\n",
      " [0.00319588]]\n"
     ]
    }
   ],
   "source": [
    "#Training algorithm\n",
    "a = 1\n",
    "for _ in range(100000):\n",
    "    #Forward Propagation\n",
    "    hidden_layer_activation = np.dot(arr_in, hidden_weights) + hidden_bias\n",
    "    hidden_layer_out = sigmoid(hidden_layer_activation)\n",
    "    out_layer_activation = np.dot(hidden_layer_out, out_weights) + out_bias\n",
    "    predicted_out = sigmoid(out_layer_activation)\n",
    "    if a==1:\n",
    "        print(predicted_out,'\\n\\n')\n",
    "        a+=1\n",
    "    #Backpropagation\n",
    "    error = arr_out - predicted_out\n",
    "    d_predicted_out = error * sigmoid_derivative(predicted_out)  \n",
    "    error_hidden_layer = d_predicted_out.dot(out_weights.T)\n",
    "    d_hidden_layer = error_hidden_layer * sigmoid_derivative(hidden_layer_out)\n",
    "    #Updating Weights and Biases\n",
    "    \n",
    "    out_weights += hidden_layer_out.T.dot(d_predicted_out) * lr\n",
    "    out_bias += np.sum(d_predicted_out,axis=0,keepdims=True) * lr\n",
    "    hidden_weights += arr_in.T.dot(d_hidden_layer) * lr\n",
    "    hidden_bias += np.sum(d_hidden_layer,axis=0,keepdims=True) * lr\n",
    "print(predicted_out)"
   ]
  },
  {
   "cell_type": "code",
   "execution_count": null,
   "metadata": {},
   "outputs": [],
   "source": []
  }
 ],
 "metadata": {
  "kernelspec": {
   "display_name": "Python 3",
   "language": "python",
   "name": "python3"
  },
  "language_info": {
   "codemirror_mode": {
    "name": "ipython",
    "version": 3
   },
   "file_extension": ".py",
   "mimetype": "text/x-python",
   "name": "python",
   "nbconvert_exporter": "python",
   "pygments_lexer": "ipython3",
   "version": "3.8.6"
  }
 },
 "nbformat": 4,
 "nbformat_minor": 4
}
