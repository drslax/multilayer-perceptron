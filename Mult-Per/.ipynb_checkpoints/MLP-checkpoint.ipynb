{
 "cells": [
  {
   "cell_type": "code",
   "execution_count": 2,
   "metadata": {},
   "outputs": [],
   "source": [
    "import pandas as pd\n",
    "import matplotlib.pyplot as plt\n",
    "import numpy as np"
   ]
  },
  {
   "cell_type": "code",
   "execution_count": 1,
   "metadata": {},
   "outputs": [],
   "source": [
    "class Layer:\n",
    "    def __init__(self):\n",
    "        pass\n",
    "    def forward(self, inp):\n",
    "        return inp\n",
    "    def backward(self, inp, grad_output):\n",
    "        num_units = inp.shape[1]\n",
    "        d_layer_d_input = np.eye(num_units)\n",
    "        return np.dot(gradoutput, d_layer_d_input)"
   ]
  },
  {
   "cell_type": "code",
   "execution_count": 2,
   "metadata": {},
   "outputs": [],
   "source": [
    "class Relu:\n",
    "    def __init__(self):\n",
    "        pass\n",
    "    def forward(self, inp):\n",
    "        return np.maximum(0, inp)\n",
    "    def backward(self, inp, grad_output):\n",
    "        relu_grad = inp > 0\n",
    "        return grad_output * relu_grad"
   ]
  },
  {
   "cell_type": "code",
   "execution_count": 3,
   "metadata": {},
   "outputs": [],
   "source": [
    "#Xavier initialization : is a trick to train our model to converge faster Instead of initializing our weights with small numbers which\n",
    "# are distributed randomly we initialize our weights with mean zero and variance of 2/(number of inputs + number of outputs)."
   ]
  },
  {
   "cell_type": "code",
   "execution_count": 6,
   "metadata": {},
   "outputs": [],
   "source": [
    "class Dense(Layer):\n",
    "    def __init__(self, input_units, output_units, learning_rate=0.1):\n",
    "        self.learning_rate = learning_rate\n",
    "        self.weights = np.random.normal(loc=0.0, scale=np.sqrt(2 / (input_units + output_units)), size = (input_units, output_units))\n",
    "        self.biases = np.zeros(output_units)\n",
    "    def forward(self, inp):\n",
    "        return np.dot(inp, self.weights) + self.biases\n",
    "    def backward(self, inp, grad_output):\n",
    "        grad_input = np.dot(grad_output, self.weights.T)\n",
    "        grad_weights = np.dot(inp.T, grad_output)\n",
    "        grad_biases = grad_output.mean(axis=0)*inp.shape[0]\n",
    "        assert grad_weights.shape == self.weights.shape and grad_biases.shape == self.biases.shape\n",
    "        self.weights = self.weights - self.learning_rate * grad_weights\n",
    "        self.biases = self.biases - self.learning_rate * grad_biases\n",
    "        return grad_input"
   ]
  },
  {
   "cell_type": "code",
   "execution_count": null,
   "metadata": {},
   "outputs": [],
   "source": []
  }
 ],
 "metadata": {
  "kernelspec": {
   "display_name": "Python 3",
   "language": "python",
   "name": "python3"
  },
  "language_info": {
   "codemirror_mode": {
    "name": "ipython",
    "version": 3
   },
   "file_extension": ".py",
   "mimetype": "text/x-python",
   "name": "python",
   "nbconvert_exporter": "python",
   "pygments_lexer": "ipython3",
   "version": "3.8.6"
  }
 },
 "nbformat": 4,
 "nbformat_minor": 4
}
